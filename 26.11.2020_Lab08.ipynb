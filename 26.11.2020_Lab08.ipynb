{
 "cells": [
  {
   "cell_type": "code",
   "execution_count": 1,
   "metadata": {},
   "outputs": [],
   "source": [
    "import matplotlib.pyplot as plt\n",
    "import numpy as np\n",
    "# import math\n",
    "# from scipy.misc import imsave\n",
    "%matplotlib inline"
   ]
  },
  {
   "cell_type": "code",
   "execution_count": 2,
   "metadata": {},
   "outputs": [],
   "source": [
    "def m_f_0_and(l1,l2):\n",
    "    n = len(l1)\n",
    "    s = []\n",
    "    for i in range(n):\n",
    "        a=(l1[i] and l2[i])\n",
    "        s.append(a)\n",
    "    return s\n",
    "\n",
    "def m_f_1_and_or(l1, operator=0):\n",
    "    if operator:\n",
    "        if 1 in l1:\n",
    "            s1 = 1\n",
    "        else:\n",
    "            s1 = 0\n",
    "    else:\n",
    "        if 0 in l1:\n",
    "            s1 = 0\n",
    "        else:\n",
    "            s1 = 1\n",
    "        \n",
    "    return s1  \n",
    "\n",
    "def m_f_2_combine(l1, l2, op=0):\n",
    "    a =  m_f_0_and(l1, l2)\n",
    "    return m_f_1_and_or(a, op)\n",
    "    \n"
   ]
  },
  {
   "cell_type": "code",
   "execution_count": 3,
   "metadata": {
    "scrolled": true
   },
   "outputs": [
    {
     "data": {
      "text/plain": [
       "1"
      ]
     },
     "execution_count": 3,
     "metadata": {},
     "output_type": "execute_result"
    }
   ],
   "source": [
    "list_1 = [0,0,1,0,1] # mask\n",
    "list_2 = [1,1,1,1,1] # block\n",
    "m_f_2_combine(list_1, list_2, 1)\n"
   ]
  },
  {
   "cell_type": "code",
   "execution_count": 4,
   "metadata": {},
   "outputs": [],
   "source": [
    "def convert_RGB_to_monochrome_BW(image_1, threshold = 100):\n",
    "    img_1 = image_1\n",
    "    img_2 = np.zeros((img_1.shape[0], img_1.shape[1]))\n",
    "    for i in range(img_2.shape[0]):\n",
    "        for j in range (img_2.shape[1]):\n",
    "            if ( img_1[i,j,0]/3 + img_1[i,j,1]/3 + img_1[i,j,1]/3 ) > threshold :\n",
    "                img_2[i,j] = 0\n",
    "            else:\n",
    "                img_2[i,j] = 1\n",
    "                \n",
    "    return img_2"
   ]
  },
  {
   "cell_type": "code",
   "execution_count": 5,
   "metadata": {},
   "outputs": [
    {
     "data": {
      "image/png": "[encoded data removed]",
      "text/plain": [
       "<Figure size 432x288 with 2 Axes>"
      ]
     },
     "metadata": {
      "needs_background": "light"
     },
     "output_type": "display_data"
    }
   ],
   "source": [
    "path_file  = r\"C:\\Users\\kemal\\Desktop\\letter.jpg\"\n",
    "img_1 = plt.imread(path_file)\n",
    "img_2 = convert_RGB_to_monochrome_BW( img_1)\n",
    "\n",
    "plt.subplot(1,2,1), plt.imshow(img_1)\n",
    "plt.subplot(1,2,2), plt.imshow(img_2, cmap = 'gray')\n",
    "plt.show()"
   ]
  },
  {
   "cell_type": "markdown",
   "metadata": {},
   "source": []
  },
  {
   "cell_type": "code",
   "execution_count": 6,
   "metadata": {},
   "outputs": [
    {
     "data": {
      "text/plain": [
       "array([[0., 0., 0., ..., 0., 0., 0.],\n",
       "       [0., 0., 0., ..., 0., 0., 0.],\n",
       "       [0., 0., 0., ..., 0., 0., 0.],\n",
       "       ...,\n",
       "       [0., 0., 0., ..., 0., 0., 0.],\n",
       "       [0., 0., 0., ..., 0., 0., 0.],\n",
       "       [0., 0., 0., ..., 0., 0., 0.]])"
      ]
     },
     "execution_count": 6,
     "metadata": {},
     "output_type": "execute_result"
    }
   ],
   "source": [
    "img_2"
   ]
  },
  {
   "cell_type": "code",
   "execution_count": 7,
   "metadata": {},
   "outputs": [
    {
     "data": {
      "text/plain": [
       "1.0"
      ]
     },
     "execution_count": 7,
     "metadata": {},
     "output_type": "execute_result"
    }
   ],
   "source": [
    "np.max(img_2)"
   ]
  },
  {
   "cell_type": "code",
   "execution_count": 8,
   "metadata": {},
   "outputs": [
    {
     "data": {
      "text/plain": [
       "255"
      ]
     },
     "execution_count": 8,
     "metadata": {},
     "output_type": "execute_result"
    }
   ],
   "source": [
    "np.max(img_1)"
   ]
  },
  {
   "cell_type": "code",
   "execution_count": 9,
   "metadata": {},
   "outputs": [],
   "source": [
    "def define_mask_1():\n",
    "    mask_1 = [[1,1,1], [1,1,1], [1,1,1]]\n",
    "    return mask_1"
   ]
  },
  {
   "cell_type": "code",
   "execution_count": 10,
   "metadata": {},
   "outputs": [],
   "source": [
    "def my_dilation(img_1, mask, morphologyOperation = 'dilation'):\n",
    "    m = img_1.shape[0]\n",
    "    n = img_1.shape[1]\n",
    "    img_2 = np.zeros((m,n), dtype = 'uint8')\n",
    "    for i in range(1, m-1):\n",
    "        for j in range (1, n-1):\n",
    "            x_1 = img_1[i ,j] == mask[1][1]\n",
    "            \n",
    "            x_2 = img_1[i-1 ,j-1] == mask[0][0]\n",
    "            x_3 = img_1[i-1 ,j] == mask[0][1]\n",
    "            x_4 = img_1[i-1 ,j+1] == mask[0][2]\n",
    "            \n",
    "            x_5 = img_1[i+1 ,j-1] == mask[2][0]\n",
    "            x_6 = img_1[i+1 ,j] == mask[2][1]\n",
    "            x_7 = img_1[i+1 ,j+1] == mask[2][2]\n",
    "            \n",
    "            x_8 = img_1[i ,j-1] == mask[1][0]\n",
    "            x_9 = img_1[i ,j+1] == mask[1][2]\n",
    "\n",
    "            if( morphologyOperation == 'dilation'):\n",
    "\n",
    "                result_1 = x_1 or x_2 or x_3 or x_4 or x_5\n",
    "                result_2 = x_6 or x_7 or x_8 or x_9\n",
    "            \n",
    "                result = result_1 or result_2\n",
    "            elif( morphologyOperation == 'erosion'):\n",
    "\n",
    "                result_1 = x_1 and x_2 and x_3 and x_4 and x_5\n",
    "                result_2 = x_6 and x_7 and x_8 and x_9\n",
    "            \n",
    "                result = result_1 and result_2\n",
    "            \n",
    "            img_2[i,j] = result\n",
    "    return img_2\n",
    "            "
   ]
  },
  {
   "cell_type": "code",
   "execution_count": 11,
   "metadata": {},
   "outputs": [],
   "source": [
    "img_3 = my_dilation(img_2, define_mask_1())\n",
    "img_4 = my_dilation(img_3, define_mask_1())\n",
    "img_5 = my_dilation(img_4, define_mask_1())"
   ]
  },
  {
   "cell_type": "code",
   "execution_count": 12,
   "metadata": {},
   "outputs": [
    {
     "data": {
      "image/png": "[encoded data removed]",
      "text/plain": [
       "<Figure size 1440x1440 with 3 Axes>"
      ]
     },
     "metadata": {
      "needs_background": "light"
     },
     "output_type": "display_data"
    }
   ],
   "source": [
    "plt.figure(figsize = (20,20))\n",
    "#plt.subplot(1,3,1), plt.imshow(img_1)\n",
    "plt.subplot(1,3,1), plt.imshow(img_1)\n",
    "plt.subplot(1,3,2), plt.imshow(img_2, cmap = 'gray')\n",
    "plt.subplot(1,3,3), plt.imshow(img_5, cmap = 'gray')\n",
    "plt.show()"
   ]
  },
  {
   "cell_type": "code",
   "execution_count": 13,
   "metadata": {},
   "outputs": [
    {
     "data": {
      "image/png": "[encoded data removed]",
      "text/plain": [
       "<Figure size 1440x1440 with 3 Axes>"
      ]
     },
     "metadata": {
      "needs_background": "light"
     },
     "output_type": "display_data"
    }
   ],
   "source": [
    "img_3 = my_dilation(img_2, define_mask_1(), 'erosion')\n",
    "img_4 = my_dilation(img_3, define_mask_1(), 'erosion')\n",
    "img_5 = my_dilation(img_4, define_mask_1(), 'erosion')\n",
    "\n",
    "plt.figure(figsize = (20,20))\n",
    "\n",
    "plt.subplot(1,3,1), plt.imshow(img_1)\n",
    "plt.subplot(1,3,2), plt.imshow(img_2, cmap = 'gray')\n",
    "plt.subplot(1,3,3), plt.imshow(img_5, cmap = 'gray')\n",
    "plt.show()"
   ]
  },
  {
   "cell_type": "code",
   "execution_count": 14,
   "metadata": {},
   "outputs": [
    {
     "data": {
      "image/png": "[encoded data removed]",
      "text/plain": [
       "<Figure size 1440x1440 with 2 Axes>"
      ]
     },
     "metadata": {
      "needs_background": "light"
     },
     "output_type": "display_data"
    }
   ],
   "source": [
    "img_3 = my_dilation(img_2, define_mask_1(), 'erosion')  #opening\n",
    "img_4 = my_dilation(img_3, define_mask_1(), 'erosion')\n",
    "img_5 = my_dilation(img_4, define_mask_1(), 'erosion')\n",
    "\n",
    "img_6 = my_dilation(img_5, define_mask_1(), 'dilation')\n",
    "img_7 = my_dilation(img_6, define_mask_1(), 'dilation')\n",
    "img_8 = my_dilation(img_7, define_mask_1(), 'dilation')\n",
    "\n",
    "plt.figure(figsize = (20,20))\n",
    "\n",
    "plt.subplot(1,2,1), plt.imshow(img_1)\n",
    "plt.subplot(1,2,2), plt.imshow(img_8, cmap = 'gray')\n",
    "plt.show()\n"
   ]
  },
  {
   "cell_type": "code",
   "execution_count": 15,
   "metadata": {},
   "outputs": [
    {
     "data": {
      "image/png": "[encoded data removed]",
      "text/plain": [
       "<Figure size 1440x1440 with 2 Axes>"
      ]
     },
     "metadata": {
      "needs_background": "light"
     },
     "output_type": "display_data"
    }
   ],
   "source": [
    "img_3 = my_dilation(img_2, define_mask_1(), 'dilation')  #closing\n",
    "img_4 = my_dilation(img_3, define_mask_1(), 'dilation')\n",
    "img_5 = my_dilation(img_4, define_mask_1(), 'dilation')\n",
    "\n",
    "img_6 = my_dilation(img_5, define_mask_1(), 'erosion')\n",
    "img_7 = my_dilation(img_6, define_mask_1(), 'erosion')\n",
    "img_8 = my_dilation(img_7, define_mask_1(), 'erosion')\n",
    "\n",
    "plt.figure(figsize = (20,20))\n",
    "\n",
    "plt.subplot(1,2,1), plt.imshow(img_1)\n",
    "plt.subplot(1,2,2), plt.imshow(img_8, cmap = 'gray')\n",
    "plt.show()\n"
   ]
  },
  {
   "cell_type": "code",
   "execution_count": 16,
   "metadata": {},
   "outputs": [
    {
     "data": {
      "image/png": "[encoded data removed]",
      "text/plain": [
       "<Figure size 1440x1440 with 2 Axes>"
      ]
     },
     "metadata": {
      "needs_background": "light"
     },
     "output_type": "display_data"
    }
   ],
   "source": [
    "img_9 = my_dilation(img_8, define_mask_1(), 'dilation')  #closing\n",
    "img_10 = my_dilation(img_9, define_mask_1(), 'dilation')\n",
    "img_11 = my_dilation(img_10, define_mask_1(), 'dilation')\n",
    "img_12 = my_dilation(img_11, define_mask_1(), 'dilation')\n",
    "img_13 = my_dilation(img_12, define_mask_1(), 'dilation')\n",
    "\n",
    "\n",
    "plt.figure(figsize = (20,20))\n",
    "\n",
    "plt.subplot(1,2,1), plt.imshow(img_1)\n",
    "plt.subplot(1,2,2), plt.imshow(img_13, cmap = 'gray')\n",
    "plt.show()\n"
   ]
  },
  {
   "cell_type": "code",
   "execution_count": null,
   "metadata": {},
   "outputs": [],
   "source": []
  }
 ],
 "metadata": {
  "kernelspec": {
   "display_name": "Python 3",
   "language": "python",
   "name": "python3"
  },
  "language_info": {
   "codemirror_mode": {
    "name": "ipython",
    "version": 3
   },
   "file_extension": ".py",
   "mimetype": "text/x-python",
   "name": "python",
   "nbconvert_exporter": "python",
   "pygments_lexer": "ipython3",
   "version": "3.7.6"
  }
 },
 "nbformat": 4,
 "nbformat_minor": 4
}
