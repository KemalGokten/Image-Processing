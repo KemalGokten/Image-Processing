{
 "cells": [
  {
   "cell_type": "code",
   "execution_count": 118,
   "metadata": {},
   "outputs": [],
   "source": [
    "import numpy as np\n",
    "\n",
    "class Perceptron(object):\n",
    "    \"\"\"Impleents a perceptron network \"\"\"\n",
    "    \n",
    "    def __init__(self,input_size,lr=1,epochs=10):\n",
    "        self.W = np.zeros(input_size+1)\n",
    "        # add one for bias\n",
    "        self.epochs = epochs\n",
    "        self.lr = lr\n",
    "        \n",
    "        \n",
    "        \n",
    "    def activation_fn(self,x):\n",
    "        return 1 if x >= 0 else 0\n",
    "    \n",
    "    \n",
    "    def predict(self,x):\n",
    "        x = np.insert(x,0,1)\n",
    "        z = self.W.T.dot(x)\n",
    "        a = self.activation_fn(z)\n",
    "        return a\n",
    "    \n",
    "    \n",
    "    def fit(self,X,d):\n",
    "        for _ in range(self.epochs):\n",
    "            for i in range(d.shape[0]):\n",
    "                y = self.predict(X[i])\n",
    "                e = d[i] - y\n",
    "                self.W = self.W + self.lr * e * np.insert(X[i],0,1)\n"
   ]
  },
  {
   "cell_type": "code",
   "execution_count": 119,
   "metadata": {},
   "outputs": [],
   "source": [
    "X = np.array([\n",
    "        [0,0],\n",
    "        [0,1],\n",
    "        [1,0],\n",
    "        [1,1]\n",
    "    ])"
   ]
  },
  {
   "cell_type": "code",
   "execution_count": 120,
   "metadata": {},
   "outputs": [],
   "source": [
    "d = np.array([0,0,0,1])\n"
   ]
  },
  {
   "cell_type": "code",
   "execution_count": 121,
   "metadata": {},
   "outputs": [
    {
     "data": {
      "text/plain": [
       "array([[0, 0],\n",
       "       [0, 1],\n",
       "       [1, 0],\n",
       "       [1, 1]])"
      ]
     },
     "execution_count": 121,
     "metadata": {},
     "output_type": "execute_result"
    }
   ],
   "source": [
    "X"
   ]
  },
  {
   "cell_type": "code",
   "execution_count": 122,
   "metadata": {},
   "outputs": [
    {
     "data": {
      "text/plain": [
       "array([0, 0, 0, 1])"
      ]
     },
     "execution_count": 122,
     "metadata": {},
     "output_type": "execute_result"
    }
   ],
   "source": [
    "d"
   ]
  },
  {
   "cell_type": "code",
   "execution_count": 123,
   "metadata": {},
   "outputs": [],
   "source": [
    "perceptron = Perceptron(input_size=2)\n"
   ]
  },
  {
   "cell_type": "code",
   "execution_count": 124,
   "metadata": {},
   "outputs": [
    {
     "data": {
      "text/plain": [
       "array([0., 0., 0.])"
      ]
     },
     "execution_count": 124,
     "metadata": {},
     "output_type": "execute_result"
    }
   ],
   "source": [
    "perceptron.W"
   ]
  },
  {
   "cell_type": "code",
   "execution_count": 125,
   "metadata": {},
   "outputs": [],
   "source": [
    "perceptron.fit(X,d)"
   ]
  },
  {
   "cell_type": "code",
   "execution_count": 126,
   "metadata": {},
   "outputs": [
    {
     "data": {
      "text/plain": [
       "array([-3.,  2.,  1.])"
      ]
     },
     "execution_count": 126,
     "metadata": {},
     "output_type": "execute_result"
    }
   ],
   "source": [
    "perceptron.W"
   ]
  },
  {
   "cell_type": "code",
   "execution_count": 127,
   "metadata": {},
   "outputs": [
    {
     "name": "stdout",
     "output_type": "stream",
     "text": [
      "[-3.  2.  1.]\n"
     ]
    }
   ],
   "source": [
    "\n",
    "print(perceptron.W)"
   ]
  },
  {
   "cell_type": "code",
   "execution_count": 129,
   "metadata": {},
   "outputs": [
    {
     "data": {
      "text/plain": [
       "0"
      ]
     },
     "execution_count": 129,
     "metadata": {},
     "output_type": "execute_result"
    }
   ],
   "source": [
    "perceptron.predict(np.asarray([0,0]))"
   ]
  },
  {
   "cell_type": "code",
   "execution_count": 130,
   "metadata": {},
   "outputs": [
    {
     "data": {
      "text/plain": [
       "1"
      ]
     },
     "execution_count": 130,
     "metadata": {},
     "output_type": "execute_result"
    }
   ],
   "source": [
    "mp = Perceptron(5)\n",
    "x = np.asarray([1,1,0,0,0])\n",
    "mp.predict(x)"
   ]
  },
  {
   "cell_type": "code",
   "execution_count": null,
   "metadata": {},
   "outputs": [],
   "source": []
  },
  {
   "cell_type": "code",
   "execution_count": 131,
   "metadata": {},
   "outputs": [
    {
     "data": {
      "text/plain": [
       "1"
      ]
     },
     "execution_count": 131,
     "metadata": {},
     "output_type": "execute_result"
    }
   ],
   "source": [
    "mp.activation_fn(10)"
   ]
  },
  {
   "cell_type": "code",
   "execution_count": null,
   "metadata": {},
   "outputs": [],
   "source": []
  },
  {
   "cell_type": "code",
   "execution_count": null,
   "metadata": {},
   "outputs": [],
   "source": []
  },
  {
   "cell_type": "code",
   "execution_count": 132,
   "metadata": {},
   "outputs": [
    {
     "data": {
      "text/plain": [
       "array([0., 0., 0., 0., 0., 0.])"
      ]
     },
     "execution_count": 132,
     "metadata": {},
     "output_type": "execute_result"
    }
   ],
   "source": [
    "mp.W"
   ]
  },
  {
   "cell_type": "markdown",
   "metadata": {},
   "source": [
    " ## 1) Perceptron class tanımınında var olan fonksiyonları kısaca tanıtınız.\n",
    " \n",
    " ## __init__ fonksiyonu\n",
    "Algılayıcıyı oluşturuyoruz. Ağırlık vektörünü oluşturmak için girdi alıyoruz. \n",
    "Girdi boyutunu ise bir arttırıyoruz ki sapmayı dahil edebilelim.\n",
    "öğrenme oranını ve devir sayısınıda kendimiz fonksiyona ekledik dışarıdan parametre olarak değiştirilebilirler.\n",
    "\n",
    "## activation_fn fonksiyonu\n",
    "Aktivasyon fonksiyonumuz eşik değeri belirliyoruz, eğer girdi 0 dan büyük veya eşitse 1 değilse 0 döndürüyoruz. Böylelikle gelen input için çıkacak output'u bulmuş oluyoruz.\n",
    "\n",
    "## predict fonksiyonu\n",
    "Algılayıcı aracılığıyla girdiyi çalıştırmak ve çıktı döndürmek için yazılan fonksiyon. \n",
    "Tahmin fonksiyonudur. \n",
    "Eğilimi giriş vektörüne ekliyoruz ardından iç çarpımı hesaplıyor ve aktivasyon fonksiyonunu kullanıyoruz. Makineyi eğittikten sonra input'un sonucunu tahmin ediyor.\n",
    "\n",
    "## fit fonksiyonu\n",
    "Tüm eğitim setini yineliyoruz ve ağırlığı devir sayımız kadar güncelliyoruz.\n",
    "Ağırlığı güncellerken ise sapmayı girdiye ekliyoruz.\n",
    "ardından ise tahminizi oluşturabiliyoruz, hatamızı hesaplayabiliyoruz, ve güncelleme kuralımızı uyguluyoruz. Bu işlemler sonucu makineyi eğittimiz fonksiyondur."
   ]
  },
  {
   "cell_type": "markdown",
   "metadata": {},
   "source": [
    "## 2) XOR için verileri değiştirip çalışmasınızı gözlemleyiniz.\n",
    "## Gözlemimim en sonda predict yapıldıktan sonraki sonuçlardan sonradır.\n",
    "\n",
    "##  XOR İŞLEMİ SONUCU VE GÖZLEMİM\n",
    "\n",
    "X = np.array([\n",
    "        [0,0],\n",
    "        [0,1],\n",
    "        [1,0],\n",
    "        [1,1]\n",
    "    ])\n",
    "\n",
    "d = np.array([0,1,1,0])\n",
    "\n",
    "print(X) - >> array([[0, 0],\n",
    "       [0, 1],\n",
    "       [1, 0],\n",
    "       [1, 1]])\n",
    "       \n",
    "\n",
    "print(d) ->> array([0, 1, 1, 0])\n",
    "\n",
    "\n",
    "perceptron = Perceptron(input_size=2)\n",
    "\n",
    "perceptron.W ->> array([0., 0., 0.])\n",
    "\n",
    "perceptron.fit(X,d)\n",
    "\n",
    "perceptron.W --> array([ 0., -1.,  0.])\n",
    "\n",
    "print(perceptron.W) ->> [ 0. -1.  0.]\n",
    "\n",
    "## burada birden fazla perceptron.predict(np.asarray([x,y]) denemesi sonuçları yer almaktadır\n",
    "\n",
    "perceptron.predict(np.asarray([0,0])) --> 1\n",
    "\n",
    "perceptron.predict(np.asarray([1,0])) --> 0\n",
    "\n",
    "perceptron.predict(np.asarray([0,1])) --> 1\n",
    "\n",
    "perceptron.predict(np.asarray([1,1])) --> 0\n",
    "\n",
    "## Gözlem:\n",
    "Bu sonuçlardan anlaşıldığı üzere XOR işlemi yapıldığında predict sonuçlarımız doğru outputları vermedi. Bunun sebebi ise Algılayıcıların sınırlamasından kaynaklanmaktadır, yalnızca doğrusal ayrılabilen sorunları çözebilmektedirler. XOR ise doğrusal olarak ayrılamadığından tek katmanlı algılayıcıları xor kapısı için kullanamayız."
   ]
  },
  {
   "cell_type": "markdown",
   "metadata": {},
   "source": [
    "## 3) bu class ile dersimize kayıtlı 40 öğrenci için imza tanıması yapılırsa X ve d değerlerini ne olur, predict fonksiyonu nasıl kullanılır açıklayınız\n",
    "\n",
    "X değerleri input ve d değerleri ise output'u temsil etmekte. Biz bunları kullanarak makineyi eğitmekteyiz. Bunun sonucunda X değeri 40 adet dizi tutar bu diziler ise öğrencilerin imzalarını tutmaktadır. d ise 40 elemanlıdır her biri X dizisindeki imzaların öğrenci karşılığıdır.\n",
    "\n",
    "### yani buradan\n",
    "\n",
    "X = [[img_1.reshape(m*n*3,1)],[img_2.reshape(m*n*3,1)].....,[img_40.reshape(m*n*3,1)]]\n",
    "d = [\"ahmet\",\"mehmet\",......\"veli\"] şeklinde 40 adet farklı veri olacaktır her imzanın öğrenci output'u olacak şekilde.\n",
    "\n",
    "\n",
    "\n",
    "Predict fonksiyonunu ise bir öğrencinin imzası yani input alınır predict fonksiyonuna gönderilir. Ardından gerekli işlemler yapılıp output verilir ve hangi öğrenciye ait imza olduğu ortaya çıkar.\n"
   ]
  },
  {
   "cell_type": "markdown",
   "metadata": {},
   "source": [
    "## 4)Bu modelin hatası nasıl elde edilir, kendi çözümünüzü/ yorumunuzu yazınız.\n",
    "\n",
    "Bir fonksiyon ile Accuracy oluştururdum bunu ise doğru olanlar/toplam deneme sayısını bölerek elde ederdim. Burdan gelen sonuç ise 0-1 arasında olurdu ve buda doğruluk oranını verir. Bu oranı ise 1 den çıkarttığımızda hata oranını buluruz.\n",
    "\n",
    "Yukarıda ki tanım sonucunda oluşacak örnek fonksiyon bu şekildedir. Fonksiyona predict edilecek dizi elemanları gönderilir bunlar ise predict fonksiyonuna gönderilir ardından output'u elde ederiz. Bu output ise doğrumu değilmi onun kontrolü yapılır datasetimizdeki d dizisi ile. Doğruysa count 1 artar değilse artmaz. Tüm işlemler sonucu başarı oranı bulunur. 1'den başarı oranı çıkar ise hata oranı elde edilir.\n",
    "\n",
    "# Kod kısmı\n",
    "def accuracy(predict_edilecekler_dizisi,X,d):\n",
    "    count=0\n",
    "    for i in predict_edilecekler_dizisi:\n",
    "       kontrol = predict(i)\n",
    "       for j in range(len(X)):\n",
    "           if(X[j]==i):\n",
    "               if(kontrol==d[j]):\n",
    "                   count+=1\n",
    "   print(\"başarı oranı\", accuracy/len(predict_edilecekler_dizisi)\n",
    "   print(\"hata oranı\" , 1-(accuracy/len(predict_edilecekler_dizisi))"
   ]
  }
 ],
 "metadata": {
  "kernelspec": {
   "display_name": "Python 3",
   "language": "python",
   "name": "python3"
  },
  "language_info": {
   "codemirror_mode": {
    "name": "ipython",
    "version": 3
   },
   "file_extension": ".py",
   "mimetype": "text/x-python",
   "name": "python",
   "nbconvert_exporter": "python",
   "pygments_lexer": "ipython3",
   "version": "3.7.6"
  }
 },
 "nbformat": 4,
 "nbformat_minor": 4
}
