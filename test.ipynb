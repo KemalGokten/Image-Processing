{
 "cells": [
  {
   "cell_type": "code",
   "execution_count": 6,
   "metadata": {},
   "outputs": [],
   "source": [
    "import numpy as np\n",
    "import matplotlib.pyplot as plt\n",
    "import os\n",
    "\n",
    "def oku():\n",
    "    os.getcwd()\n",
    "    os.listdir()\n",
    "    path=os.getcwd()\n",
    "    jpg_files=[f for f in os.listdir(path) if f.endswith('.jpg')]\n",
    "    \n",
    "    im_1=plt.imread(jpg_files[0])\n",
    "    return im_1\n",
    "\n",
    "def one_dimension(new_img):\n",
    "    im_1 = np.reshape(new_img,-1)\n",
    "    return im_1\n",
    "\n",
    "img_1 = oku()\n",
    "\n",
    "new_img = one_dimension(img_1)"
   ]
  },
  {
   "cell_type": "code",
   "execution_count": 7,
   "metadata": {},
   "outputs": [
    {
     "name": "stdout",
     "output_type": "stream",
     "text": [
      "(858, 630, 3)\n",
      "(1621620,)\n"
     ]
    }
   ],
   "source": [
    "print(img_1.shape)\n",
    "print(new_img.shape)"
   ]
  },
  {
   "cell_type": "code",
   "execution_count": null,
   "metadata": {},
   "outputs": [],
   "source": []
  }
 ],
 "metadata": {
  "kernelspec": {
   "display_name": "Python 3",
   "language": "python",
   "name": "python3"
  },
  "language_info": {
   "codemirror_mode": {
    "name": "ipython",
    "version": 3
   },
   "file_extension": ".py",
   "mimetype": "text/x-python",
   "name": "python",
   "nbconvert_exporter": "python",
   "pygments_lexer": "ipython3",
   "version": "3.7.6"
  }
 },
 "nbformat": 4,
 "nbformat_minor": 4
}
